{
 "cells": [
  {
   "cell_type": "markdown",
   "metadata": {},
   "source": [
    "### Fonterra Milk Loss Outlier Detection Problem\n",
    "\n",
    "In this notebook, we build an algorithm to determine when the operators should be investigating whether the losses are higher than normal. \n",
    "\n",
    "Interviewee: Pascal Eun Sig Cheon"
   ]
  },
  {
   "cell_type": "markdown",
   "metadata": {},
   "source": [
    "#### Step 1. Import libraries"
   ]
  },
  {
   "cell_type": "code",
   "execution_count": 48,
   "metadata": {},
   "outputs": [],
   "source": [
    "import pandas as pd\n",
    "import matplotlib.pyplot as plt\n",
    "import numpy as np\n",
    "import random\n",
    "from sklearn.model_selection import train_test_split"
   ]
  },
  {
   "cell_type": "markdown",
   "metadata": {},
   "source": [
    "#### Step 2. Import and preprocess data"
   ]
  },
  {
   "cell_type": "markdown",
   "metadata": {},
   "source": [
    "##### Substep 2.1 Import data and check data quality"
   ]
  },
  {
   "cell_type": "code",
   "execution_count": 49,
   "metadata": {},
   "outputs": [
    {
     "data": {
      "text/html": [
       "<div>\n",
       "<style scoped>\n",
       "    .dataframe tbody tr th:only-of-type {\n",
       "        vertical-align: middle;\n",
       "    }\n",
       "\n",
       "    .dataframe tbody tr th {\n",
       "        vertical-align: top;\n",
       "    }\n",
       "\n",
       "    .dataframe thead th {\n",
       "        text-align: right;\n",
       "    }\n",
       "</style>\n",
       "<table border=\"1\" class=\"dataframe\">\n",
       "  <thead>\n",
       "    <tr style=\"text-align: right;\">\n",
       "      <th></th>\n",
       "      <th>timestamp</th>\n",
       "      <th>normalised_losses</th>\n",
       "      <th>normalised_flow</th>\n",
       "    </tr>\n",
       "  </thead>\n",
       "  <tbody>\n",
       "    <tr>\n",
       "      <th>0</th>\n",
       "      <td>2022-08-01 00:00:00+00:00</td>\n",
       "      <td>0.287584</td>\n",
       "      <td>0.000147</td>\n",
       "    </tr>\n",
       "    <tr>\n",
       "      <th>1</th>\n",
       "      <td>2022-08-01 00:01:00+00:00</td>\n",
       "      <td>0.287448</td>\n",
       "      <td>0.000235</td>\n",
       "    </tr>\n",
       "    <tr>\n",
       "      <th>2</th>\n",
       "      <td>2022-08-01 00:02:00+00:00</td>\n",
       "      <td>0.287205</td>\n",
       "      <td>0.000147</td>\n",
       "    </tr>\n",
       "    <tr>\n",
       "      <th>3</th>\n",
       "      <td>2022-08-01 00:03:00+00:00</td>\n",
       "      <td>0.287433</td>\n",
       "      <td>0.000147</td>\n",
       "    </tr>\n",
       "    <tr>\n",
       "      <th>4</th>\n",
       "      <td>2022-08-01 00:04:00+00:00</td>\n",
       "      <td>0.287271</td>\n",
       "      <td>0.000147</td>\n",
       "    </tr>\n",
       "  </tbody>\n",
       "</table>\n",
       "</div>"
      ],
      "text/plain": [
       "                   timestamp  normalised_losses  normalised_flow\n",
       "0  2022-08-01 00:00:00+00:00           0.287584         0.000147\n",
       "1  2022-08-01 00:01:00+00:00           0.287448         0.000235\n",
       "2  2022-08-01 00:02:00+00:00           0.287205         0.000147\n",
       "3  2022-08-01 00:03:00+00:00           0.287433         0.000147\n",
       "4  2022-08-01 00:04:00+00:00           0.287271         0.000147"
      ]
     },
     "execution_count": 49,
     "metadata": {},
     "output_type": "execute_result"
    }
   ],
   "source": [
    "df_milk_flow = pd.read_csv(\"./interview_data.csv\")\n",
    "df_milk_flow.head()"
   ]
  },
  {
   "cell_type": "code",
   "execution_count": 50,
   "metadata": {},
   "outputs": [
    {
     "data": {
      "text/html": [
       "<div>\n",
       "<style scoped>\n",
       "    .dataframe tbody tr th:only-of-type {\n",
       "        vertical-align: middle;\n",
       "    }\n",
       "\n",
       "    .dataframe tbody tr th {\n",
       "        vertical-align: top;\n",
       "    }\n",
       "\n",
       "    .dataframe thead th {\n",
       "        text-align: right;\n",
       "    }\n",
       "</style>\n",
       "<table border=\"1\" class=\"dataframe\">\n",
       "  <thead>\n",
       "    <tr style=\"text-align: right;\">\n",
       "      <th></th>\n",
       "      <th>normalised_losses</th>\n",
       "      <th>normalised_flow</th>\n",
       "    </tr>\n",
       "  </thead>\n",
       "  <tbody>\n",
       "    <tr>\n",
       "      <th>count</th>\n",
       "      <td>493921.000000</td>\n",
       "      <td>456869.000000</td>\n",
       "    </tr>\n",
       "    <tr>\n",
       "      <th>mean</th>\n",
       "      <td>0.318404</td>\n",
       "      <td>0.106595</td>\n",
       "    </tr>\n",
       "    <tr>\n",
       "      <th>std</th>\n",
       "      <td>0.140393</td>\n",
       "      <td>0.148560</td>\n",
       "    </tr>\n",
       "    <tr>\n",
       "      <th>min</th>\n",
       "      <td>0.000000</td>\n",
       "      <td>0.000000</td>\n",
       "    </tr>\n",
       "    <tr>\n",
       "      <th>25%</th>\n",
       "      <td>0.281995</td>\n",
       "      <td>0.000147</td>\n",
       "    </tr>\n",
       "    <tr>\n",
       "      <th>50%</th>\n",
       "      <td>0.288304</td>\n",
       "      <td>0.000404</td>\n",
       "    </tr>\n",
       "    <tr>\n",
       "      <th>75%</th>\n",
       "      <td>0.293227</td>\n",
       "      <td>0.177511</td>\n",
       "    </tr>\n",
       "    <tr>\n",
       "      <th>max</th>\n",
       "      <td>1.000000</td>\n",
       "      <td>1.000000</td>\n",
       "    </tr>\n",
       "  </tbody>\n",
       "</table>\n",
       "</div>"
      ],
      "text/plain": [
       "       normalised_losses  normalised_flow\n",
       "count      493921.000000    456869.000000\n",
       "mean            0.318404         0.106595\n",
       "std             0.140393         0.148560\n",
       "min             0.000000         0.000000\n",
       "25%             0.281995         0.000147\n",
       "50%             0.288304         0.000404\n",
       "75%             0.293227         0.177511\n",
       "max             1.000000         1.000000"
      ]
     },
     "execution_count": 50,
     "metadata": {},
     "output_type": "execute_result"
    }
   ],
   "source": [
    "df_milk_flow.describe()"
   ]
  },
  {
   "cell_type": "markdown",
   "metadata": {},
   "source": [
    "Let us create following columns: \n",
    "- Date: to carry out daily analysis\n",
    "- Year-Month: to understand the behaviour over a year\n",
    "- Time of day: to understand the behaviour over a day\n",
    "- Isnan: boolean column for if either losses or flow column is NaN"
   ]
  },
  {
   "cell_type": "code",
   "execution_count": 51,
   "metadata": {},
   "outputs": [
    {
     "data": {
      "text/html": [
       "<div>\n",
       "<style scoped>\n",
       "    .dataframe tbody tr th:only-of-type {\n",
       "        vertical-align: middle;\n",
       "    }\n",
       "\n",
       "    .dataframe tbody tr th {\n",
       "        vertical-align: top;\n",
       "    }\n",
       "\n",
       "    .dataframe thead th {\n",
       "        text-align: right;\n",
       "    }\n",
       "</style>\n",
       "<table border=\"1\" class=\"dataframe\">\n",
       "  <thead>\n",
       "    <tr style=\"text-align: right;\">\n",
       "      <th></th>\n",
       "      <th>timestamp</th>\n",
       "      <th>normalised_losses</th>\n",
       "      <th>normalised_flow</th>\n",
       "      <th>date</th>\n",
       "      <th>month</th>\n",
       "      <th>time</th>\n",
       "      <th>isnan</th>\n",
       "    </tr>\n",
       "  </thead>\n",
       "  <tbody>\n",
       "    <tr>\n",
       "      <th>0</th>\n",
       "      <td>2022-08-01 00:00:00+00:00</td>\n",
       "      <td>0.287584</td>\n",
       "      <td>0.000147</td>\n",
       "      <td>2022-08-01</td>\n",
       "      <td>2022-08</td>\n",
       "      <td>00:00</td>\n",
       "      <td>False</td>\n",
       "    </tr>\n",
       "    <tr>\n",
       "      <th>1</th>\n",
       "      <td>2022-08-01 00:01:00+00:00</td>\n",
       "      <td>0.287448</td>\n",
       "      <td>0.000235</td>\n",
       "      <td>2022-08-01</td>\n",
       "      <td>2022-08</td>\n",
       "      <td>00:01</td>\n",
       "      <td>False</td>\n",
       "    </tr>\n",
       "    <tr>\n",
       "      <th>2</th>\n",
       "      <td>2022-08-01 00:02:00+00:00</td>\n",
       "      <td>0.287205</td>\n",
       "      <td>0.000147</td>\n",
       "      <td>2022-08-01</td>\n",
       "      <td>2022-08</td>\n",
       "      <td>00:02</td>\n",
       "      <td>False</td>\n",
       "    </tr>\n",
       "    <tr>\n",
       "      <th>3</th>\n",
       "      <td>2022-08-01 00:03:00+00:00</td>\n",
       "      <td>0.287433</td>\n",
       "      <td>0.000147</td>\n",
       "      <td>2022-08-01</td>\n",
       "      <td>2022-08</td>\n",
       "      <td>00:03</td>\n",
       "      <td>False</td>\n",
       "    </tr>\n",
       "    <tr>\n",
       "      <th>4</th>\n",
       "      <td>2022-08-01 00:04:00+00:00</td>\n",
       "      <td>0.287271</td>\n",
       "      <td>0.000147</td>\n",
       "      <td>2022-08-01</td>\n",
       "      <td>2022-08</td>\n",
       "      <td>00:04</td>\n",
       "      <td>False</td>\n",
       "    </tr>\n",
       "  </tbody>\n",
       "</table>\n",
       "</div>"
      ],
      "text/plain": [
       "                   timestamp  normalised_losses  normalised_flow        date  \\\n",
       "0  2022-08-01 00:00:00+00:00           0.287584         0.000147  2022-08-01   \n",
       "1  2022-08-01 00:01:00+00:00           0.287448         0.000235  2022-08-01   \n",
       "2  2022-08-01 00:02:00+00:00           0.287205         0.000147  2022-08-01   \n",
       "3  2022-08-01 00:03:00+00:00           0.287433         0.000147  2022-08-01   \n",
       "4  2022-08-01 00:04:00+00:00           0.287271         0.000147  2022-08-01   \n",
       "\n",
       "     month   time  isnan  \n",
       "0  2022-08  00:00  False  \n",
       "1  2022-08  00:01  False  \n",
       "2  2022-08  00:02  False  \n",
       "3  2022-08  00:03  False  \n",
       "4  2022-08  00:04  False  "
      ]
     },
     "execution_count": 51,
     "metadata": {},
     "output_type": "execute_result"
    }
   ],
   "source": [
    "df_milk_flow['date'] = df_milk_flow['timestamp'].str[:10]\n",
    "df_milk_flow['month'] = df_milk_flow['timestamp'].str[:7]\n",
    "df_milk_flow['time'] = df_milk_flow['timestamp'].str[11:16]\n",
    "df_milk_flow['isnan'] = (df_milk_flow['normalised_losses'].isna()) | (df_milk_flow['normalised_flow'].isna()) \n",
    "df_milk_flow.head()"
   ]
  },
  {
   "cell_type": "code",
   "execution_count": 52,
   "metadata": {},
   "outputs": [
    {
     "name": "stdout",
     "output_type": "stream",
     "text": [
      "\n",
      "The min date is: 2022-08-01. The max date is: 2023-07-17. \n",
      "There should be 351 dates between and including the two dates and we have 347.\n",
      "In the \"losses\" column, there are 158 NaNs. \n",
      "In the \"flow\" column, there are 37210 NaNs. \n",
      "There are 37368 out of 494079 rows in which there are NaNs. That is 7.56%.\n",
      "\n"
     ]
    }
   ],
   "source": [
    "print(f\"\"\"\n",
    "The min date is: {df_milk_flow['date'].min()}. The max date is: {df_milk_flow['date'].max()}. \n",
    "There should be 351 dates between and including the two dates and we have {df_milk_flow['date'].nunique()}.\n",
    "In the \"losses\" column, there are {df_milk_flow['normalised_losses'].isna().sum()} NaNs. \n",
    "In the \"flow\" column, there are {df_milk_flow['normalised_flow'].isna().sum()} NaNs. \n",
    "There are {(df_milk_flow['isnan'] == 1).sum()} out of {df_milk_flow.shape[0]} rows in which there are NaNs. That is {round((df_milk_flow['isnan'] == 1).sum() / df_milk_flow.shape[0] * 100, 2)}%.\n",
    "\"\"\")"
   ]
  },
  {
   "cell_type": "markdown",
   "metadata": {},
   "source": [
    "Since we are getting a data point every minute there should be 1440 (= 60 * 24) rows per day. Below table shows the number of rows for the corresponding date ordered by ascending number of rows. We see that there are some days with missing rows."
   ]
  },
  {
   "cell_type": "code",
   "execution_count": 53,
   "metadata": {},
   "outputs": [
    {
     "data": {
      "text/html": [
       "<div>\n",
       "<style scoped>\n",
       "    .dataframe tbody tr th:only-of-type {\n",
       "        vertical-align: middle;\n",
       "    }\n",
       "\n",
       "    .dataframe tbody tr th {\n",
       "        vertical-align: top;\n",
       "    }\n",
       "\n",
       "    .dataframe thead th {\n",
       "        text-align: right;\n",
       "    }\n",
       "</style>\n",
       "<table border=\"1\" class=\"dataframe\">\n",
       "  <thead>\n",
       "    <tr style=\"text-align: right;\">\n",
       "      <th></th>\n",
       "      <th>date</th>\n",
       "    </tr>\n",
       "  </thead>\n",
       "  <tbody>\n",
       "    <tr>\n",
       "      <th>346</th>\n",
       "      <td>32</td>\n",
       "    </tr>\n",
       "    <tr>\n",
       "      <th>340</th>\n",
       "      <td>207</td>\n",
       "    </tr>\n",
       "    <tr>\n",
       "      <th>336</th>\n",
       "      <td>361</td>\n",
       "    </tr>\n",
       "    <tr>\n",
       "      <th>323</th>\n",
       "      <td>491</td>\n",
       "    </tr>\n",
       "    <tr>\n",
       "      <th>339</th>\n",
       "      <td>1151</td>\n",
       "    </tr>\n",
       "  </tbody>\n",
       "</table>\n",
       "</div>"
      ],
      "text/plain": [
       "     date\n",
       "346    32\n",
       "340   207\n",
       "336   361\n",
       "323   491\n",
       "339  1151"
      ]
     },
     "execution_count": 53,
     "metadata": {},
     "output_type": "execute_result"
    }
   ],
   "source": [
    "df_milk_flow.groupby('date', as_index = False)['date'].count().sort_values(by = 'date', ascending = True).head()"
   ]
  },
  {
   "cell_type": "markdown",
   "metadata": {},
   "source": [
    "Below table shows the number of rows with NaNs in either the losses or the flow columns in the descending order. "
   ]
  },
  {
   "cell_type": "code",
   "execution_count": 54,
   "metadata": {},
   "outputs": [
    {
     "data": {
      "text/html": [
       "<div>\n",
       "<style scoped>\n",
       "    .dataframe tbody tr th:only-of-type {\n",
       "        vertical-align: middle;\n",
       "    }\n",
       "\n",
       "    .dataframe tbody tr th {\n",
       "        vertical-align: top;\n",
       "    }\n",
       "\n",
       "    .dataframe thead th {\n",
       "        text-align: right;\n",
       "    }\n",
       "</style>\n",
       "<table border=\"1\" class=\"dataframe\">\n",
       "  <thead>\n",
       "    <tr style=\"text-align: right;\">\n",
       "      <th></th>\n",
       "      <th>date</th>\n",
       "      <th>isnan</th>\n",
       "    </tr>\n",
       "  </thead>\n",
       "  <tbody>\n",
       "    <tr>\n",
       "      <th>338</th>\n",
       "      <td>2023-07-06</td>\n",
       "      <td>693</td>\n",
       "    </tr>\n",
       "    <tr>\n",
       "      <th>335</th>\n",
       "      <td>2023-07-03</td>\n",
       "      <td>686</td>\n",
       "    </tr>\n",
       "    <tr>\n",
       "      <th>313</th>\n",
       "      <td>2023-06-10</td>\n",
       "      <td>666</td>\n",
       "    </tr>\n",
       "    <tr>\n",
       "      <th>334</th>\n",
       "      <td>2023-07-02</td>\n",
       "      <td>644</td>\n",
       "    </tr>\n",
       "    <tr>\n",
       "      <th>316</th>\n",
       "      <td>2023-06-14</td>\n",
       "      <td>620</td>\n",
       "    </tr>\n",
       "  </tbody>\n",
       "</table>\n",
       "</div>"
      ],
      "text/plain": [
       "           date  isnan\n",
       "338  2023-07-06    693\n",
       "335  2023-07-03    686\n",
       "313  2023-06-10    666\n",
       "334  2023-07-02    644\n",
       "316  2023-06-14    620"
      ]
     },
     "execution_count": 54,
     "metadata": {},
     "output_type": "execute_result"
    }
   ],
   "source": [
    "df_milk_flow.groupby('date', as_index = False)['isnan'].sum().sort_values(by = 'isnan', ascending = False).head()"
   ]
  },
  {
   "cell_type": "markdown",
   "metadata": {},
   "source": [
    "Below table shows the number of rows with NaNs in either the losses or the flow columns for each month in the descending order. There is a clear increase in the number of NaNs going into 2023. "
   ]
  },
  {
   "cell_type": "code",
   "execution_count": 55,
   "metadata": {},
   "outputs": [
    {
     "data": {
      "text/html": [
       "<div>\n",
       "<style scoped>\n",
       "    .dataframe tbody tr th:only-of-type {\n",
       "        vertical-align: middle;\n",
       "    }\n",
       "\n",
       "    .dataframe tbody tr th {\n",
       "        vertical-align: top;\n",
       "    }\n",
       "\n",
       "    .dataframe thead th {\n",
       "        text-align: right;\n",
       "    }\n",
       "</style>\n",
       "<table border=\"1\" class=\"dataframe\">\n",
       "  <thead>\n",
       "    <tr style=\"text-align: right;\">\n",
       "      <th></th>\n",
       "      <th>month</th>\n",
       "      <th>isnan</th>\n",
       "    </tr>\n",
       "  </thead>\n",
       "  <tbody>\n",
       "    <tr>\n",
       "      <th>10</th>\n",
       "      <td>2023-06</td>\n",
       "      <td>9141</td>\n",
       "    </tr>\n",
       "    <tr>\n",
       "      <th>7</th>\n",
       "      <td>2023-03</td>\n",
       "      <td>6311</td>\n",
       "    </tr>\n",
       "    <tr>\n",
       "      <th>9</th>\n",
       "      <td>2023-05</td>\n",
       "      <td>5803</td>\n",
       "    </tr>\n",
       "    <tr>\n",
       "      <th>6</th>\n",
       "      <td>2023-02</td>\n",
       "      <td>5753</td>\n",
       "    </tr>\n",
       "    <tr>\n",
       "      <th>8</th>\n",
       "      <td>2023-04</td>\n",
       "      <td>4517</td>\n",
       "    </tr>\n",
       "    <tr>\n",
       "      <th>11</th>\n",
       "      <td>2023-07</td>\n",
       "      <td>4114</td>\n",
       "    </tr>\n",
       "    <tr>\n",
       "      <th>5</th>\n",
       "      <td>2023-01</td>\n",
       "      <td>1722</td>\n",
       "    </tr>\n",
       "    <tr>\n",
       "      <th>3</th>\n",
       "      <td>2022-11</td>\n",
       "      <td>5</td>\n",
       "    </tr>\n",
       "    <tr>\n",
       "      <th>2</th>\n",
       "      <td>2022-10</td>\n",
       "      <td>2</td>\n",
       "    </tr>\n",
       "    <tr>\n",
       "      <th>0</th>\n",
       "      <td>2022-08</td>\n",
       "      <td>0</td>\n",
       "    </tr>\n",
       "    <tr>\n",
       "      <th>1</th>\n",
       "      <td>2022-09</td>\n",
       "      <td>0</td>\n",
       "    </tr>\n",
       "    <tr>\n",
       "      <th>4</th>\n",
       "      <td>2022-12</td>\n",
       "      <td>0</td>\n",
       "    </tr>\n",
       "  </tbody>\n",
       "</table>\n",
       "</div>"
      ],
      "text/plain": [
       "      month  isnan\n",
       "10  2023-06   9141\n",
       "7   2023-03   6311\n",
       "9   2023-05   5803\n",
       "6   2023-02   5753\n",
       "8   2023-04   4517\n",
       "11  2023-07   4114\n",
       "5   2023-01   1722\n",
       "3   2022-11      5\n",
       "2   2022-10      2\n",
       "0   2022-08      0\n",
       "1   2022-09      0\n",
       "4   2022-12      0"
      ]
     },
     "execution_count": 55,
     "metadata": {},
     "output_type": "execute_result"
    }
   ],
   "source": [
    "df_milk_flow.groupby('month', as_index = False)['isnan'].sum().sort_values(by = 'isnan', ascending = False)"
   ]
  },
  {
   "cell_type": "markdown",
   "metadata": {},
   "source": [
    "##### Substep 2.2 Decide what to do with the NaNs\n",
    "\n",
    "There are only few rows with NaNs in the losses column so it should not affect our analysis if we excluded those rows. However, there are many rows with NaNs in the flow column so in this section we investigate those a bit more."
   ]
  },
  {
   "cell_type": "markdown",
   "metadata": {},
   "source": [
    "From my understanding, the flow comes from the amount of water that is used to clean the equipment. This means that the flow is controlled, rather than being purely observed. Below is the histogram of the flows. We see that there is a strong suggestion on the typical amount of flow that is used in the cleaning so we fill out the NaN flows with the mean of the flows.  "
   ]
  },
  {
   "cell_type": "code",
   "execution_count": 56,
   "metadata": {},
   "outputs": [
    {
     "data": {
      "image/png": "[encoded data removed]",
      "text/plain": [
       "<Figure size 640x480 with 1 Axes>"
      ]
     },
     "metadata": {},
     "output_type": "display_data"
    }
   ],
   "source": [
    "plt.hist(df_milk_flow['normalised_flow'], bins = 50)\n",
    "plt.xlabel('Normalised Flows')\n",
    "plt.ylabel('Frequency')\n",
    "plt.show()"
   ]
  },
  {
   "cell_type": "code",
   "execution_count": 57,
   "metadata": {},
   "outputs": [],
   "source": [
    "df_milk_flow.loc[df_milk_flow['normalised_flow'].isna(), 'normalised_flow'] = df_milk_flow['normalised_flow'].mean()\n",
    "df_milk_flow = df_milk_flow[df_milk_flow['normalised_losses'].notnull()]"
   ]
  },
  {
   "cell_type": "markdown",
   "metadata": {},
   "source": [
    "#### Step 3. Feature engineering and defining daily measure"
   ]
  },
  {
   "cell_type": "markdown",
   "metadata": {},
   "source": [
    "##### Substep 3.1 Feature engineering"
   ]
  },
  {
   "cell_type": "markdown",
   "metadata": {},
   "source": [
    "Below scatter plot shows the relationship between the flow and losses. I thought there might be some sort of inverse proportional relationship, but the plot suggests that there isn't any strong relationship. Thus, we define a new variable \"Wastage\" to represent how much milk has been wasted down the drain, computed by (flow * loss)."
   ]
  },
  {
   "cell_type": "code",
   "execution_count": 58,
   "metadata": {},
   "outputs": [
    {
     "data": {
      "image/png": "[encoded data removed]",
      "text/plain": [
       "<Figure size 640x480 with 1 Axes>"
      ]
     },
     "metadata": {},
     "output_type": "display_data"
    }
   ],
   "source": [
    "plt.scatter(df_milk_flow['normalised_flow'], df_milk_flow['normalised_losses'], s = 10)\n",
    "plt.xlabel('Normalised Flow')\n",
    "plt.ylabel('Normalised Losses')\n",
    "plt.show()"
   ]
  },
  {
   "cell_type": "code",
   "execution_count": 59,
   "metadata": {},
   "outputs": [],
   "source": [
    "df_milk_flow['wastage'] = df_milk_flow['normalised_losses'] * df_milk_flow['normalised_flow'] "
   ]
  },
  {
   "cell_type": "markdown",
   "metadata": {},
   "source": [
    "Since we want to determine whether the site is losing more milk down the drain than normal at the daily level, we need to define a measure for the \"daily wastage\". We consider two options:\n",
    "- Daily sum of wastage: we would have to exclude the dates with missing rows to use this measure\n",
    "- Daily mean of wastage: can still use those dates with missing rows as long as the wastage remains mostly constant throughout the day (e.g., the wastage in the afternoon isn't usually much greater than during the morning or anything like that) \n",
    "\n",
    "Below is the mean of the wastage for each minute of the day. We see that the plot suggests that the wastage usually increases towards the end of the day. However, given that there are not that many days with missing rows, we will include these dates in our analysis and use the mean as the daily wastage measure. "
   ]
  },
  {
   "cell_type": "code",
   "execution_count": 60,
   "metadata": {},
   "outputs": [
    {
     "data": {
      "image/png": "[encoded data removed]",
      "text/plain": [
       "<Figure size 640x480 with 1 Axes>"
      ]
     },
     "metadata": {},
     "output_type": "display_data"
    }
   ],
   "source": [
    "temp_gb_time = df_milk_flow.groupby('time', as_index = False)['wastage'].mean()\n",
    "plt.bar(temp_gb_time['time'], temp_gb_time['wastage'])\n",
    "plt.xticks(range(0, len(temp_gb_time['time']), 120), temp_gb_time['time'][::120], rotation = 90)\n",
    "plt.xlabel('Time of day')\n",
    "plt.ylabel('Mean Wastage')\n",
    "plt.show()"
   ]
  },
  {
   "cell_type": "markdown",
   "metadata": {},
   "source": [
    "##### Substep 3.2 Compute the daily wastage mean"
   ]
  },
  {
   "cell_type": "code",
   "execution_count": 61,
   "metadata": {},
   "outputs": [
    {
     "data": {
      "text/html": [
       "<div>\n",
       "<style scoped>\n",
       "    .dataframe tbody tr th:only-of-type {\n",
       "        vertical-align: middle;\n",
       "    }\n",
       "\n",
       "    .dataframe tbody tr th {\n",
       "        vertical-align: top;\n",
       "    }\n",
       "\n",
       "    .dataframe thead th {\n",
       "        text-align: right;\n",
       "    }\n",
       "</style>\n",
       "<table border=\"1\" class=\"dataframe\">\n",
       "  <thead>\n",
       "    <tr style=\"text-align: right;\">\n",
       "      <th></th>\n",
       "      <th>date</th>\n",
       "      <th>wastage</th>\n",
       "    </tr>\n",
       "  </thead>\n",
       "  <tbody>\n",
       "    <tr>\n",
       "      <th>0</th>\n",
       "      <td>2022-08-01</td>\n",
       "      <td>0.018675</td>\n",
       "    </tr>\n",
       "    <tr>\n",
       "      <th>1</th>\n",
       "      <td>2022-08-02</td>\n",
       "      <td>0.018632</td>\n",
       "    </tr>\n",
       "    <tr>\n",
       "      <th>2</th>\n",
       "      <td>2022-08-03</td>\n",
       "      <td>0.046187</td>\n",
       "    </tr>\n",
       "    <tr>\n",
       "      <th>3</th>\n",
       "      <td>2022-08-04</td>\n",
       "      <td>0.036104</td>\n",
       "    </tr>\n",
       "    <tr>\n",
       "      <th>4</th>\n",
       "      <td>2022-08-05</td>\n",
       "      <td>0.037230</td>\n",
       "    </tr>\n",
       "  </tbody>\n",
       "</table>\n",
       "</div>"
      ],
      "text/plain": [
       "         date   wastage\n",
       "0  2022-08-01  0.018675\n",
       "1  2022-08-02  0.018632\n",
       "2  2022-08-03  0.046187\n",
       "3  2022-08-04  0.036104\n",
       "4  2022-08-05  0.037230"
      ]
     },
     "execution_count": 61,
     "metadata": {},
     "output_type": "execute_result"
    }
   ],
   "source": [
    "df_milk_flow_daily = df_milk_flow.groupby('date', as_index = False)['wastage'].mean()\n",
    "df_milk_flow_daily.head()"
   ]
  },
  {
   "cell_type": "markdown",
   "metadata": {},
   "source": [
    "#### Step 4. Anomaly detection using the Z-score analysis\n",
    "\n",
    "One way to detect data points that lie outside the expected region is by the z-score analysis. Formally, the \"Z-score\" is defined by the $Z \\coloneqq \\frac{x - \\mu}{\\sigma}$ where $\\mu$ and $\\sigma$ are the mean and standard deviation of a dataset, respectively. In other words, the z-score is a measure of how far away an observed value $x$ is from the mean $\\mu$.\n",
    "\n",
    "In this section, we train the model parameters $\\mu$ and $\\sigma$ in two ways (1) using the whole dataset as the training set and the testing set (2) separating out the dataset into a training and a testing set."
   ]
  },
  {
   "cell_type": "markdown",
   "metadata": {},
   "source": [
    "##### Substep 4.1 Using the whole set\n",
    "\n",
    "Given the physical context of the problem, it is impossible for the wastage to be negative. Thus, we log transform the wastage and the modelling is carried out over the transformed variable."
   ]
  },
  {
   "cell_type": "code",
   "execution_count": 62,
   "metadata": {},
   "outputs": [],
   "source": [
    "df_milk_flow_daily['log_wastage'] = np.log(df_milk_flow_daily['wastage'])"
   ]
  },
  {
   "cell_type": "code",
   "execution_count": 63,
   "metadata": {},
   "outputs": [],
   "source": [
    "df_milk_flow_daily_analysis1 = df_milk_flow_daily\n",
    "\n",
    "modelvar_mu_analysis1 = df_milk_flow_daily_analysis1['log_wastage'].mean()\n",
    "modelvar_sd_analysis1 = df_milk_flow_daily_analysis1['log_wastage'].std()"
   ]
  },
  {
   "cell_type": "markdown",
   "metadata": {},
   "source": [
    "Now we compute the z-score based on the modelled variables and highlight the days in which the wastage is more than normal based on this approach and selected variable. "
   ]
  },
  {
   "cell_type": "code",
   "execution_count": 64,
   "metadata": {},
   "outputs": [
    {
     "data": {
      "text/html": [
       "<div>\n",
       "<style scoped>\n",
       "    .dataframe tbody tr th:only-of-type {\n",
       "        vertical-align: middle;\n",
       "    }\n",
       "\n",
       "    .dataframe tbody tr th {\n",
       "        vertical-align: top;\n",
       "    }\n",
       "\n",
       "    .dataframe thead th {\n",
       "        text-align: right;\n",
       "    }\n",
       "</style>\n",
       "<table border=\"1\" class=\"dataframe\">\n",
       "  <thead>\n",
       "    <tr style=\"text-align: right;\">\n",
       "      <th></th>\n",
       "      <th>date</th>\n",
       "      <th>wastage</th>\n",
       "      <th>log_wastage</th>\n",
       "      <th>z_score</th>\n",
       "    </tr>\n",
       "  </thead>\n",
       "  <tbody>\n",
       "    <tr>\n",
       "      <th>138</th>\n",
       "      <td>2022-12-17</td>\n",
       "      <td>0.087360</td>\n",
       "      <td>-2.437721</td>\n",
       "      <td>1.655036</td>\n",
       "    </tr>\n",
       "    <tr>\n",
       "      <th>134</th>\n",
       "      <td>2022-12-13</td>\n",
       "      <td>0.085363</td>\n",
       "      <td>-2.460848</td>\n",
       "      <td>1.619975</td>\n",
       "    </tr>\n",
       "    <tr>\n",
       "      <th>141</th>\n",
       "      <td>2022-12-20</td>\n",
       "      <td>0.082441</td>\n",
       "      <td>-2.495667</td>\n",
       "      <td>1.567189</td>\n",
       "    </tr>\n",
       "    <tr>\n",
       "      <th>142</th>\n",
       "      <td>2022-12-21</td>\n",
       "      <td>0.080369</td>\n",
       "      <td>-2.521122</td>\n",
       "      <td>1.528599</td>\n",
       "    </tr>\n",
       "    <tr>\n",
       "      <th>139</th>\n",
       "      <td>2022-12-18</td>\n",
       "      <td>0.078302</td>\n",
       "      <td>-2.547179</td>\n",
       "      <td>1.489095</td>\n",
       "    </tr>\n",
       "  </tbody>\n",
       "</table>\n",
       "</div>"
      ],
      "text/plain": [
       "           date   wastage  log_wastage   z_score\n",
       "138  2022-12-17  0.087360    -2.437721  1.655036\n",
       "134  2022-12-13  0.085363    -2.460848  1.619975\n",
       "141  2022-12-20  0.082441    -2.495667  1.567189\n",
       "142  2022-12-21  0.080369    -2.521122  1.528599\n",
       "139  2022-12-18  0.078302    -2.547179  1.489095"
      ]
     },
     "execution_count": 64,
     "metadata": {},
     "output_type": "execute_result"
    }
   ],
   "source": [
    "modelvar_threshold_analysis1 = 0.5\n",
    "df_milk_flow_daily_analysis1['z_score'] = (df_milk_flow_daily_analysis1['log_wastage'] - modelvar_mu_analysis1) / modelvar_sd_analysis1\n",
    "df_milk_flow_daily_analysis1[(df_milk_flow_daily_analysis1['z_score'] >= modelvar_threshold_analysis1)].sort_values(by = 'z_score', ascending = False).head()"
   ]
  },
  {
   "cell_type": "code",
   "execution_count": 65,
   "metadata": {},
   "outputs": [
    {
     "data": {
      "image/png": "[encoded data removed]",
      "text/plain": [
       "<Figure size 640x480 with 1 Axes>"
      ]
     },
     "metadata": {},
     "output_type": "display_data"
    }
   ],
   "source": [
    "df_milk_flow_daily_analysis1['colors'] = 'blue'\n",
    "df_milk_flow_daily_analysis1.loc[(df_milk_flow_daily_analysis1['z_score'] >= modelvar_threshold_analysis1), 'colors'] = 'red'\n",
    "plt.bar(df_milk_flow_daily_analysis1['date'], df_milk_flow_daily_analysis1['wastage'], color = df_milk_flow_daily_analysis1['colors'])\n",
    "plt.xticks(range(0, len(df_milk_flow_daily_analysis1['date']), 28), df_milk_flow_daily_analysis1['date'][::28], rotation = 90)\n",
    "plt.xlabel('Dates')\n",
    "plt.ylabel('Wastage')\n",
    "plt.show()"
   ]
  },
  {
   "cell_type": "markdown",
   "metadata": {},
   "source": [
    "Adjusting the tolerance threshold, we can calibrate our model to be more or less sensitivie. In the bar plot below, I have turned up the threshold making the model less sensitive."
   ]
  },
  {
   "cell_type": "code",
   "execution_count": 66,
   "metadata": {},
   "outputs": [
    {
     "data": {
      "image/png": "[encoded data removed]",
      "text/plain": [
       "<Figure size 640x480 with 1 Axes>"
      ]
     },
     "metadata": {},
     "output_type": "display_data"
    }
   ],
   "source": [
    "modelvar_threshold_analysis1 = 0.7\n",
    "df_milk_flow_daily_analysis1['colors'] = 'blue'\n",
    "df_milk_flow_daily_analysis1.loc[(df_milk_flow_daily_analysis1['z_score'] >= modelvar_threshold_analysis1), 'colors'] = 'red'\n",
    "plt.bar(df_milk_flow_daily_analysis1['date'], df_milk_flow_daily_analysis1['wastage'], color=df_milk_flow_daily_analysis1['colors'])\n",
    "plt.xticks(range(0, len(df_milk_flow_daily_analysis1['date']), 28), df_milk_flow_daily_analysis1['date'][::28], rotation = 90)\n",
    "plt.xlabel('Dates')\n",
    "plt.ylabel('Wastage')\n",
    "plt.show()"
   ]
  },
  {
   "cell_type": "markdown",
   "metadata": {},
   "source": [
    "##### Substep 4.2 Splitting to training/testing sets\n",
    "\n",
    "We carry out the same analysis as in Substep 4.1, but we randomly split out our dataset into a training set and a testing set. Again the table and the plot below highlight the days in which the wastages are more than normal for the given threshold."
   ]
  },
  {
   "cell_type": "code",
   "execution_count": 67,
   "metadata": {},
   "outputs": [],
   "source": [
    "df_milk_flow_daily_analysis2_train, df_milk_flow_daily_analysis2_test = train_test_split(df_milk_flow_daily, test_size = 0.3)"
   ]
  },
  {
   "cell_type": "code",
   "execution_count": 68,
   "metadata": {},
   "outputs": [],
   "source": [
    "modelvar_mu_analysis2 = df_milk_flow_daily_analysis2_train['log_wastage'].mean()\n",
    "modelvar_sd_analysis2 = df_milk_flow_daily_analysis2_train['log_wastage'].std()"
   ]
  },
  {
   "cell_type": "code",
   "execution_count": 69,
   "metadata": {},
   "outputs": [
    {
     "data": {
      "text/html": [
       "<div>\n",
       "<style scoped>\n",
       "    .dataframe tbody tr th:only-of-type {\n",
       "        vertical-align: middle;\n",
       "    }\n",
       "\n",
       "    .dataframe tbody tr th {\n",
       "        vertical-align: top;\n",
       "    }\n",
       "\n",
       "    .dataframe thead th {\n",
       "        text-align: right;\n",
       "    }\n",
       "</style>\n",
       "<table border=\"1\" class=\"dataframe\">\n",
       "  <thead>\n",
       "    <tr style=\"text-align: right;\">\n",
       "      <th></th>\n",
       "      <th>date</th>\n",
       "      <th>wastage</th>\n",
       "      <th>log_wastage</th>\n",
       "      <th>z_score</th>\n",
       "      <th>colors</th>\n",
       "    </tr>\n",
       "  </thead>\n",
       "  <tbody>\n",
       "    <tr>\n",
       "      <th>138</th>\n",
       "      <td>2022-12-17</td>\n",
       "      <td>0.087360</td>\n",
       "      <td>-2.437721</td>\n",
       "      <td>1.687527</td>\n",
       "      <td>red</td>\n",
       "    </tr>\n",
       "    <tr>\n",
       "      <th>136</th>\n",
       "      <td>2022-12-15</td>\n",
       "      <td>0.077212</td>\n",
       "      <td>-2.561198</td>\n",
       "      <td>1.493125</td>\n",
       "      <td>red</td>\n",
       "    </tr>\n",
       "    <tr>\n",
       "      <th>135</th>\n",
       "      <td>2022-12-14</td>\n",
       "      <td>0.075608</td>\n",
       "      <td>-2.582193</td>\n",
       "      <td>1.460071</td>\n",
       "      <td>red</td>\n",
       "    </tr>\n",
       "    <tr>\n",
       "      <th>140</th>\n",
       "      <td>2022-12-19</td>\n",
       "      <td>0.072390</td>\n",
       "      <td>-2.625690</td>\n",
       "      <td>1.391590</td>\n",
       "      <td>red</td>\n",
       "    </tr>\n",
       "    <tr>\n",
       "      <th>137</th>\n",
       "      <td>2022-12-16</td>\n",
       "      <td>0.070817</td>\n",
       "      <td>-2.647660</td>\n",
       "      <td>1.356999</td>\n",
       "      <td>red</td>\n",
       "    </tr>\n",
       "  </tbody>\n",
       "</table>\n",
       "</div>"
      ],
      "text/plain": [
       "           date   wastage  log_wastage   z_score colors\n",
       "138  2022-12-17  0.087360    -2.437721  1.687527    red\n",
       "136  2022-12-15  0.077212    -2.561198  1.493125    red\n",
       "135  2022-12-14  0.075608    -2.582193  1.460071    red\n",
       "140  2022-12-19  0.072390    -2.625690  1.391590    red\n",
       "137  2022-12-16  0.070817    -2.647660  1.356999    red"
      ]
     },
     "execution_count": 69,
     "metadata": {},
     "output_type": "execute_result"
    }
   ],
   "source": [
    "df_milk_flow_daily_analysis2_test['z_score'] = (df_milk_flow_daily_analysis2_test['log_wastage'] - modelvar_mu_analysis2) / modelvar_sd_analysis2\n",
    "df_milk_flow_daily_analysis2_test[(df_milk_flow_daily_analysis2_test['z_score'] >= 0.7)].sort_values(by = 'z_score', ascending = False).head()"
   ]
  },
  {
   "cell_type": "code",
   "execution_count": 70,
   "metadata": {},
   "outputs": [
    {
     "data": {
      "image/png": "[encoded data removed]",
      "text/plain": [
       "<Figure size 640x480 with 1 Axes>"
      ]
     },
     "metadata": {},
     "output_type": "display_data"
    }
   ],
   "source": [
    "modelvar_threshold_analysis2 = 0.7\n",
    "df_milk_flow_daily_analysis2_test['colors'] = 'blue'\n",
    "df_milk_flow_daily_analysis2_test.loc[(df_milk_flow_daily_analysis2_test['z_score'] >= modelvar_threshold_analysis2), 'colors'] = 'red'\n",
    "plt.bar(range(len(df_milk_flow_daily_analysis2_test['date'])), df_milk_flow_daily_analysis2_test['wastage'], color = df_milk_flow_daily_analysis2_test['colors'])\n",
    "plt.xlabel('Index')\n",
    "plt.ylabel('Wastage')\n",
    "plt.show()"
   ]
  },
  {
   "cell_type": "markdown",
   "metadata": {},
   "source": [
    "#### Step 5. Conclusions and discussions"
   ]
  },
  {
   "cell_type": "markdown",
   "metadata": {},
   "source": [
    "##### Conclusions\n",
    "\n",
    "The goal of the task was to apply an algorithm to determine when the site is losing more milk down the drain than normal at the daily level. For this, we defined the measure to be the daily mean of the wastage (flow * murkiness). From this, we computed the mean and standard deviation of the daily mean wastage and therefore computed the z-scores. Using the z-scores, we demonstreated determining when the site is losing more milk than normal for a specified threshold which can be calibrated depending on how \"sensitive\" we want our sensor to be. We applied this approach using the whole dataset available as well as separating out the dataset into a training and a testing set."
   ]
  },
  {
   "cell_type": "markdown",
   "metadata": {},
   "source": [
    "##### Alternatvie approaches\n",
    "\n",
    "1. Kalman filter: the Kalman filter algorithm is a real-time sequential estimator of which the computed estimate is the \"best\" estimate based on the measurements up to that point. Using this, we could compute the wastage forecast and the associated mean and standard deviation. Then, the sensor could be alarmed if the wastage of that day exceeded the upper limit of a confidence we set (say mean + 2 * std). There are several advantages to this approach (1) it is a sequential estimator so the computation of the forecast is efficient, (2) if we wanted more dense estimates (say we wanted to compute the wastage forecast estimates every minute), the modification of the model to allow this could be done efficiently, and (3) if we wanted to look at historical wastage but there were gaps due to equipment malfunction, we could easily reconstruct these using the state space formalism on which the Kalman filter algorithm is based on.    \n",
    "\n",
    "2. The methods I have discussed so far are from the top of my head. Given more time and resources, I would have looked into other methods to detect anomalies, either consulting my teammates or researching on my own. A quick search on Chat-GPT reveals \"isolation forest\", \"local outlier factor\", and \"autoencoders\" as potential starting points.  "
   ]
  },
  {
   "cell_type": "markdown",
   "metadata": {},
   "source": [
    "##### Future work\n",
    "\n",
    "1. We carried out the analysis, using data over the entire available period (Aug 2022 - July 2023). It would be worth investigating if the wastage could be dependent on time. For example, would there be less wastage on average outside the milk production season? If the wastage was strongly time dependent, we may need to implement an approach that caters this for more accuracy.\n",
    "\n",
    "2. Test out with different approaches to deal with the missing data. e.g., interpolation. Although I suspect that this would not change the analysis much with the given dataset, it may be useful in future proofing as the sesor goes live and is calibrated periodically.\n",
    "\n",
    "3. We carried out the analysis with the mean wastage as the daily wastage measure. Test out using the sum as the measure. Similar to Point Number 2. Investigating this approach may be useful if we ended up seeing big fluctuations of the wastage over a day. "
   ]
  },
  {
   "cell_type": "markdown",
   "metadata": {},
   "source": [
    "##### Further questions and information\n",
    "\n",
    "1. In this analysis, we used (flow x murkiness) as the wastage model. Is there a standard accepted model for this? It could be good to consult a chemical engineer perhaps. This may impact the outcome of the analysis.\n",
    "\n",
    "2. There are a few data points with flow = 0. Is this a data quality issue or just rounded down? In this analysis, I treated as them being rounded down."
   ]
  },
  {
   "cell_type": "markdown",
   "metadata": {},
   "source": [
    "##### Data quality issues to investigate\n",
    "\n",
    "1. We saw that the number of NaNs increase suddenly in 2023. It would be good to investigate why this happened and prevent it from happening again.\n",
    "\n",
    "2. There are some missing days in the data. It would be good to understand that so we can prevent that from happening again.\n",
    "\n",
    "3. There are a few dates with missing rows. It would be good to understand why this is happening."
   ]
  }
 ],
 "metadata": {
  "kernelspec": {
   "display_name": "fonterra_milk_problem",
   "language": "python",
   "name": "python3"
  },
  "language_info": {
   "codemirror_mode": {
    "name": "ipython",
    "version": 3
   },
   "file_extension": ".py",
   "mimetype": "text/x-python",
   "name": "python",
   "nbconvert_exporter": "python",
   "pygments_lexer": "ipython3",
   "version": "3.10.11"
  },
  "orig_nbformat": 4
 },
 "nbformat": 4,
 "nbformat_minor": 2
}
